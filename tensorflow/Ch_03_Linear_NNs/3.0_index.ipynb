{
 "cells": [
  {
   "cell_type": "markdown",
   "metadata": {
    "origin_pos": 0
   },
   "source": [
    "# Linear Neural Networks\n",
    ":label:`chap_linear`\n",
    "\n",
    "Before we get into the details of deep neural networks,\n",
    "we need to cover the basics of neural network training.\n",
    "In this chapter, we will cover the entire training process,\n",
    "including defining simple neural network architectures, handling data, specifying a loss function, and training the model. \n",
    "In order to make things easier to grasp, we begin with the simplest concepts.\n",
    "Fortunately, classic statistical learning techniques such as linear and softmax regression\n",
    "can be cast as *linear* neural networks.\n",
    "Starting from these classic algorithms, we will introduce you to the basics,\n",
    "providing the basis for more complex techniques in the rest of the book.\n",
    "\n",
    ":begin_tab:toc\n",
    " - [linear-regression](3.1_linear-regression.ipynb)\n",
    " - [linear-regression-scratch](3.2_linear-regression-scratch.ipynb)\n",
    " - [linear-regression-concise](3.3_linear-regression-concise.ipynb)\n",
    " - [softmax-regression](3.4_softmax-regression.ipynb)\n",
    " - [image-classification-dataset](3.5_image-classification-dataset.ipynb)\n",
    " - [softmax-regression-scratch](3.6_softmax-regression-scratch.ipynb)\n",
    " - [softmax-regression-concise](3.7_softmax-regression-concise.ipynb)\n",
    ":end_tab:\n"
   ]
  }
 ],
 "metadata": {
  "kernelspec": {
   "display_name": "Python 3",
   "language": "python",
   "name": "python3"
  },
  "language_info": {
   "codemirror_mode": {
    "name": "ipython",
    "version": 3
   },
   "file_extension": ".py",
   "mimetype": "text/x-python",
   "name": "python",
   "nbconvert_exporter": "python",
   "pygments_lexer": "ipython3",
   "version": "3.7.9"
  }
 },
 "nbformat": 4,
 "nbformat_minor": 4
}

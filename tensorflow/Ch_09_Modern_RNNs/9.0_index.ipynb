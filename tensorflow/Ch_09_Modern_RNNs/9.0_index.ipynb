{
 "cells": [
  {
   "cell_type": "markdown",
   "metadata": {
    "origin_pos": 0
   },
   "source": [
    "# Modern Recurrent Neural Networks\n",
    ":label:`chap_modern_rnn`\n",
    "\n",
    "We have introduced the basics of RNNs,\n",
    "which can better handle sequence data.\n",
    "For demonstration,\n",
    "we implemented RNN-based\n",
    "language models on text data.\n",
    "However, \n",
    "such techniques may not be sufficient\n",
    "for practitioners when they face\n",
    "a wide range of sequence learning problems nowadays.\n",
    "\n",
    "For instance,\n",
    "a notable issue in practice\n",
    "is the numerical instability of RNNs.\n",
    "Although we have applied implementation tricks\n",
    "such as gradient clipping,\n",
    "this issue can be alleviated further\n",
    "with more sophisticated designs of sequence models.\n",
    "Specifically,\n",
    "gated RNNs are much more common in practice.\n",
    "We will begin by introducing two of such widely-used networks,\n",
    "namely *gated recurrent units* (GRUs) and *long short-term memory* (LSTM).\n",
    "Furthermore, we will expand the RNN architecture\n",
    "with a single unidirectional hidden layer\n",
    "that has been discussed so far.\n",
    "We will describe deep architectures with\n",
    "multiple hidden layers,\n",
    "and discuss the bidirectional design\n",
    "with both forward and backward recurrent computations.\n",
    "Such expansions are frequently adopted\n",
    "in modern recurrent networks.\n",
    "When explaining these RNN variants,\n",
    "we continue to consider\n",
    "the same language modeling problem introduced in :numref:`chap_rnn`.\n",
    "\n",
    "In fact, language modeling\n",
    "reveals only a small fraction of what \n",
    "sequence learning is capable of.\n",
    "In a variety of sequence learning problems,\n",
    "such as automatic speech recognition, text to speech, and machine translation,\n",
    "both inputs and outputs are sequences of arbitrary length.\n",
    "To explain how to fit this type of data,\n",
    "we will take machine translation as an example,\n",
    "and introduce the encoder-decoder architecture based on\n",
    "RNNs and beam search for sequence generation.\n",
    "\n",
    ":begin_tab:toc\n",
    " - [gru](9.1_gru.ipynb)\n",
    " - [lstm](9.2_lstm.ipynb)\n",
    " - [deep-rnn](9.3_deep-rnn.ipynb)\n",
    " - [bi-rnn](9.4_bi-rnn.ipynb)\n",
    " - [machine-translation-and-dataset](9.5_machine-translation-and-dataset.ipynb)\n",
    " - [encoder-decoder](9.6_encoder-decoder.ipynb)\n",
    " - [seq2seq](9.7_seq2seq.ipynb)\n",
    " - [beam-search](9.8_beam-search.ipynb)\n",
    ":end_tab:\n"
   ]
  },
  {
   "cell_type": "markdown",
   "metadata": {},
   "source": []
  }
 ],
 "metadata": {
  "language_info": {
   "name": "python"
  }
 },
 "nbformat": 4,
 "nbformat_minor": 4
}

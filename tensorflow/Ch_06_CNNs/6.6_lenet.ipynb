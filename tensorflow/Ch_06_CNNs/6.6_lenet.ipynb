{
 "cells": [
  {
   "cell_type": "markdown",
   "metadata": {
    "origin_pos": 0
   },
   "source": [
    "# Convolutional Neural Networks (LeNet)\n",
    ":label:`sec_lenet`\n",
    "\n",
    "We now have all the ingredients required to assemble\n",
    "a fully-functional CNN.\n",
    "In our earlier encounter with image data,\n",
    "we applied\n",
    "a softmax regression model (:numref:`sec_softmax_scratch`)\n",
    "and\n",
    "an MLP model (:numref:`sec_mlp_scratch`)\n",
    "to pictures of clothing in the Fashion-MNIST dataset.\n",
    "To make such data amenable to softmax regression and MLPs,\n",
    "we first flattened each image from a $28\\times28$ matrix\n",
    "into a fixed-length $784$-dimensional vector,\n",
    "and thereafter processed them with fully-connected layers.\n",
    "Now that we have a handle on convolutional layers,\n",
    "we can retain the spatial structure in our images.\n",
    "As an additional benefit of replacing fully-connected layers with convolutional layers,\n",
    "we will enjoy more parsimonious models that require far fewer parameters.\n",
    "\n",
    "In this section, we will introduce *LeNet*,\n",
    "among the first published CNNs\n",
    "to capture wide attention for its performance on computer vision tasks.\n",
    "The model was introduced by (and named for) Yann LeCun,\n",
    "then a researcher at AT&T Bell Labs,\n",
    "for the purpose of recognizing handwritten digits in images :cite:`LeCun.Bottou.Bengio.ea.1998`.\n",
    "This work represented the culmination\n",
    "of a decade of research developing the technology.\n",
    "In 1989, LeCun published the first study to successfully\n",
    "train CNNs via backpropagation.\n",
    "\n",
    "\n",
    "At the time LeNet achieved outstanding results\n",
    "matching the performance of support vector machines,\n",
    "then a dominant approach in supervised learning.\n",
    "LeNet was eventually adapted to recognize digits\n",
    "for processing deposits in ATM machines.\n",
    "To this day, some ATMs still run the code\n",
    "that Yann and his colleague Leon Bottou wrote in the 1990s!\n",
    "\n",
    "\n",
    "## LeNet\n",
    "\n",
    "At a high level, (**LeNet (LeNet-5) consists of two parts:\n",
    "(i) a convolutional encoder consisting of two convolutional layers; and\n",
    "(ii) a dense block consisting of three fully-connected layers**);\n",
    "The architecture is summarized in :numref:`img_lenet`.\n",
    "\n",
    "![Data flow in LeNet. The input is a handwritten digit, the output a probability over 10 possible outcomes.](../img/lenet.svg)\n",
    ":label:`img_lenet`\n",
    "\n",
    "The basic units in each convolutional block\n",
    "are a convolutional layer, a sigmoid activation function,\n",
    "and a subsequent average pooling operation.\n",
    "Note that while ReLUs and max-pooling work better,\n",
    "these discoveries had not yet been made in the 1990s.\n",
    "Each convolutional layer uses a $5\\times 5$ kernel\n",
    "and a sigmoid activation function.\n",
    "These layers map spatially arranged inputs\n",
    "to a number of two-dimensional feature maps, typically\n",
    "increasing the number of channels.\n",
    "The first convolutional layer has 6 output channels,\n",
    "while the second has 16.\n",
    "Each $2\\times2$ pooling operation (stride 2)\n",
    "reduces dimensionality by a factor of $4$ via spatial downsampling.\n",
    "The convolutional block emits an output with shape given by\n",
    "(batch size, number of channel, height, width).\n",
    "\n",
    "In order to pass output from the convolutional block\n",
    "to the dense block,\n",
    "we must flatten each example in the minibatch.\n",
    "In other words, we take this four-dimensional input and transform it\n",
    "into the two-dimensional input expected by fully-connected layers:\n",
    "as a reminder, the two-dimensional representation that we desire uses the first dimension to index examples in the minibatch\n",
    "and the second to give the flat vector representation of each example.\n",
    "LeNet's dense block has three fully-connected layers,\n",
    "with 120, 84, and 10 outputs, respectively.\n",
    "Because we are still performing classification,\n",
    "the 10-dimensional output layer corresponds\n",
    "to the number of possible output classes.\n",
    "\n",
    "While getting to the point where you truly understand\n",
    "what is going on inside LeNet may have taken a bit of work,\n",
    "hopefully the following code snippet will convince you\n",
    "that implementing such models with modern deep learning frameworks\n",
    "is remarkably simple.\n",
    "We need only to instantiate a `Sequential` block\n",
    "and chain together the appropriate layers.\n"
   ]
  },
  {
   "cell_type": "code",
   "execution_count": 2,
   "metadata": {
    "origin_pos": 3,
    "tab": [
     "tensorflow"
    ]
   },
   "outputs": [],
   "source": [
    "import tensorflow as tf\n",
    "from d2l import tensorflow as d2l\n",
    "\n",
    "\n",
    "def net():\n",
    "    return tf.keras.models.Sequential([\n",
    "        tf.keras.layers.Conv2D(filters=6, kernel_size=5, activation='sigmoid',\n",
    "                               padding='same'),\n",
    "        tf.keras.layers.AvgPool2D(pool_size=2, strides=2),\n",
    "        tf.keras.layers.Conv2D(filters=16, kernel_size=5,\n",
    "                               activation='sigmoid'),\n",
    "        tf.keras.layers.AvgPool2D(pool_size=2, strides=2),\n",
    "        tf.keras.layers.Flatten(),\n",
    "        tf.keras.layers.Dense(120, activation='sigmoid'),\n",
    "        tf.keras.layers.Dense(84, activation='sigmoid'),\n",
    "        tf.keras.layers.Dense(10)])"
   ]
  },
  {
   "cell_type": "markdown",
   "metadata": {
    "origin_pos": 4
   },
   "source": [
    "We took a small liberty with the original model,\n",
    "removing the Gaussian activation in the final layer.\n",
    "Other than that, this network matches\n",
    "the original LeNet-5 architecture.\n",
    "\n",
    "By passing a single-channel (black and white)\n",
    "$28 \\times 28$ image through the network\n",
    "and printing the output shape at each layer,\n",
    "we can [**inspect the model**] to make sure\n",
    "that its operations line up with\n",
    "what we expect from :numref:`img_lenet_vert`.\n",
    "\n",
    "![Compressed notation for LeNet-5.](../img/lenet-vert.svg)\n",
    ":label:`img_lenet_vert`\n"
   ]
  },
  {
   "cell_type": "code",
   "execution_count": 3,
   "metadata": {
    "origin_pos": 7,
    "tab": [
     "tensorflow"
    ]
   },
   "outputs": [
    {
     "name": "stderr",
     "output_type": "stream",
     "text": [
      "2022-01-01 03:14:00.675091: I tensorflow/core/platform/cpu_feature_guard.cc:151] This TensorFlow binary is optimized with oneAPI Deep Neural Network Library (oneDNN) to use the following CPU instructions in performance-critical operations:  AVX2 FMA\n",
      "To enable them in other operations, rebuild TensorFlow with the appropriate compiler flags.\n"
     ]
    },
    {
     "name": "stdout",
     "output_type": "stream",
     "text": [
      "Conv2D output shape: \t (1, 28, 28, 6)\n",
      "AveragePooling2D output shape: \t (1, 14, 14, 6)\n",
      "Conv2D output shape: \t (1, 10, 10, 16)\n",
      "AveragePooling2D output shape: \t (1, 5, 5, 16)\n",
      "Flatten output shape: \t (1, 400)\n",
      "Dense output shape: \t (1, 120)\n",
      "Dense output shape: \t (1, 84)\n",
      "Dense output shape: \t (1, 10)\n"
     ]
    }
   ],
   "source": [
    "X = tf.random.uniform((1, 28, 28, 1))\n",
    "for layer in net().layers:\n",
    "    X = layer(X)\n",
    "    print(layer.__class__.__name__, 'output shape: \\t', X.shape)"
   ]
  },
  {
   "cell_type": "markdown",
   "metadata": {
    "origin_pos": 8
   },
   "source": [
    "Note that the height and width of the representation\n",
    "at each layer throughout the convolutional block\n",
    "is reduced (compared with the previous layer).\n",
    "The first convolutional layer uses 2 pixels of padding\n",
    "to compensate for the reduction in height and width\n",
    "that would otherwise result from using a $5 \\times 5$ kernel.\n",
    "In contrast, the second convolutional layer forgoes padding,\n",
    "and thus the height and width are both reduced by 4 pixels.\n",
    "As we go up the stack of layers,\n",
    "the number of channels increases layer-over-layer\n",
    "from 1 in the input to 6 after the first convolutional layer\n",
    "and 16 after the second convolutional layer.\n",
    "However, each pooling layer halves the height and width.\n",
    "Finally, each fully-connected layer reduces dimensionality,\n",
    "finally emitting an output whose dimension\n",
    "matches the number of classes.\n",
    "\n",
    "\n",
    "\n",
    "## Training\n",
    "\n",
    "Now that we have implemented the model,\n",
    "let us [**run an experiment to see how LeNet fares on Fashion-MNIST**].\n"
   ]
  },
  {
   "cell_type": "code",
   "execution_count": 4,
   "metadata": {
    "origin_pos": 9,
    "tab": [
     "tensorflow"
    ]
   },
   "outputs": [],
   "source": [
    "batch_size = 256\n",
    "train_iter, test_iter = d2l.load_data_fashion_mnist(batch_size=batch_size)"
   ]
  },
  {
   "cell_type": "markdown",
   "metadata": {
    "origin_pos": 10
   },
   "source": [
    "While CNNs have fewer parameters,\n",
    "they can still be more expensive to compute\n",
    "than similarly deep MLPs\n",
    "because each parameter participates in many more\n",
    "multiplications.\n",
    "If you have access to a GPU, this might be a good time\n",
    "to put it into action to speed up training.\n"
   ]
  },
  {
   "cell_type": "markdown",
   "metadata": {
    "origin_pos": 14
   },
   "source": [
    "We also need to [**update our training function to deal with GPUs.**]\n",
    "Unlike the `train_epoch_ch3` defined in :numref:`sec_softmax_scratch`,\n",
    "we now need to move each minibatch of data\n",
    "to our designated device (hopefully, the GPU)\n",
    "prior to making the forward and backward propagations.\n",
    "\n",
    "The training function `train_ch6` is also similar\n",
    "to `train_ch3` defined in :numref:`sec_softmax_scratch`.\n",
    "Since we will be implementing networks with many layers\n",
    "going forward, we will rely primarily on high-level APIs.\n",
    "The following training function assumes a model created from high-level APIs\n",
    "as input and is optimized accordingly.\n",
    "We initialize the model parameters\n",
    "on the device indicated by the `device` argument, using Xavier initialization as introduced in :numref:`subsec_xavier`.\n",
    "Just as with MLPs, our loss function is cross-entropy,\n",
    "and we minimize it via minibatch stochastic gradient descent.\n",
    "Since each epoch takes tens of seconds to run,\n",
    "we visualize the training loss more frequently.\n"
   ]
  },
  {
   "cell_type": "code",
   "execution_count": 5,
   "metadata": {
    "origin_pos": 17,
    "tab": [
     "tensorflow"
    ]
   },
   "outputs": [],
   "source": [
    "class TrainCallback(tf.keras.callbacks.Callback):  #@save\n",
    "    \"\"\"\n",
    "    A callback to visiualize the training progress.\n",
    "    An instance of this class can be passed into a keras method such as\n",
    "    fit, evaluate, and train to hook into the various stages of the model\n",
    "    training and inference lifecycle.\n",
    "    \"\"\"\n",
    "    def __init__(self, net, train_iter, test_iter, num_epochs, device_name):\n",
    "        self.timer = d2l.Timer()\n",
    "        self.animator = d2l.Animator(\n",
    "            xlabel='epoch', xlim=[1, num_epochs], legend=[\n",
    "                'train loss', 'train acc', 'test acc'])\n",
    "        self.net = net\n",
    "        self.train_iter = train_iter\n",
    "        self.test_iter = test_iter\n",
    "        self.num_epochs = num_epochs\n",
    "        self.device_name = device_name\n",
    "    def on_epoch_begin(self, epoch, logs=None):\n",
    "        self.timer.start()\n",
    "    def on_epoch_end(self, epoch, logs):\n",
    "        self.timer.stop()\n",
    "        test_acc = self.net.evaluate(\n",
    "            self.test_iter, verbose=0, return_dict=True)['accuracy']\n",
    "        metrics = (logs['loss'], logs['accuracy'], test_acc)\n",
    "        self.animator.add(epoch + 1, metrics)\n",
    "        if epoch == self.num_epochs - 1:\n",
    "            batch_size = next(iter(self.train_iter))[0].shape[0]\n",
    "            num_examples = batch_size * tf.data.experimental.cardinality(\n",
    "                self.train_iter).numpy()\n",
    "            print(f'loss {metrics[0]:.3f}, train acc {metrics[1]:.3f}, '\n",
    "                  f'test acc {metrics[2]:.3f}')\n",
    "            print(f'{num_examples / self.timer.avg():.1f} examples/sec on '\n",
    "                  f'{str(self.device_name)}')\n",
    "\n",
    "#@save\n",
    "def train_ch6(net_fn, train_iter, test_iter, num_epochs, lr, device):\n",
    "    \"\"\"Train a model with a GPU (defined in Chapter 6).\"\"\"\n",
    "    device_name = device._device_name\n",
    "    strategy = tf.distribute.OneDeviceStrategy(device_name)\n",
    "    with strategy.scope():\n",
    "        optimizer = tf.keras.optimizers.SGD(learning_rate=lr)\n",
    "        loss = tf.keras.losses.SparseCategoricalCrossentropy(from_logits=True)\n",
    "        net = net_fn()\n",
    "        net.compile(optimizer=optimizer, loss=loss, metrics=['accuracy'])\n",
    "    callback = TrainCallback(net, train_iter, test_iter, num_epochs,\n",
    "                             device_name)\n",
    "    net.fit(train_iter, epochs=num_epochs, verbose=0, callbacks=[callback])\n",
    "    return net"
   ]
  },
  {
   "cell_type": "markdown",
   "metadata": {
    "origin_pos": 18
   },
   "source": [
    "[**Now let us train and evaluate the LeNet-5 model.**]\n"
   ]
  },
  {
   "cell_type": "code",
   "execution_count": null,
   "metadata": {
    "origin_pos": 19,
    "tab": [
     "tensorflow"
    ]
   },
   "outputs": [],
   "source": [
    "lr, num_epochs = 0.9, 10\n",
    "train_ch6(net, train_iter, test_iter, num_epochs, lr, d2l.try_gpu())"
   ]
  },
  {
   "cell_type": "markdown",
   "metadata": {
    "origin_pos": 20
   },
   "source": [
    "## Summary\n",
    "\n",
    "* A CNN is a network that employs convolutional layers.\n",
    "* In a CNN, we interleave convolutions, nonlinearities, and (often) pooling operations.\n",
    "* In a CNN, convolutional layers are typically arranged so that they gradually decrease the spatial resolution of the representations, while increasing the number of channels.\n",
    "* In traditional CNNs, the representations encoded by the convolutional blocks are processed by one or more fully-connected layers prior to emitting output.\n",
    "* LeNet was arguably the first successful deployment of such a network.\n",
    "\n",
    "## Exercises\n",
    "\n",
    "1. Replace the average pooling with maximum pooling. What happens?\n",
    "1. Try to construct a more complex network based on LeNet to improve its accuracy.\n",
    "    1. Adjust the convolution window size.\n",
    "    1. Adjust the number of output channels.\n",
    "    1. Adjust the activation function (e.g., ReLU).\n",
    "    1. Adjust the number of convolution layers.\n",
    "    1. Adjust the number of fully connected layers.\n",
    "    1. Adjust the learning rates and other training details (e.g., initialization and number of epochs.)\n",
    "1. Try out the improved network on the original MNIST dataset.\n",
    "1. Display the activations of the first and second layer of LeNet for different inputs (e.g., sweaters and coats).\n"
   ]
  },
  {
   "cell_type": "markdown",
   "metadata": {
    "origin_pos": 23,
    "tab": [
     "tensorflow"
    ]
   },
   "source": [
    "[Discussions](https://discuss.d2l.ai/t/275)\n"
   ]
  }
 ],
 "metadata": {
  "interpreter": {
   "hash": "15a162aef56c374f20e075fbc4add75b55bd097c903a763d3b0c4cccda1c0caf"
  },
  "kernelspec": {
   "display_name": "Python 3.8.12 64-bit ('d2l': conda)",
   "language": "python",
   "name": "python3"
  },
  "language_info": {
   "codemirror_mode": {
    "name": "ipython",
    "version": 3
   },
   "file_extension": ".py",
   "mimetype": "text/x-python",
   "name": "python",
   "nbconvert_exporter": "python",
   "pygments_lexer": "ipython3",
   "version": "3.8.12"
  }
 },
 "nbformat": 4,
 "nbformat_minor": 4
}
